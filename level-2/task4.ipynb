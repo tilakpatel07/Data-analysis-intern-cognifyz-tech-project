{
 "cells": [
  {
   "cell_type": "markdown",
   "metadata": {},
   "source": [
    "Task 4: \n",
    "- Identify if there are any restaurant chains present in the dataset.\n",
    "- Analyze the ratings and popularity of different restaurant chains"
   ]
  },
  {
   "cell_type": "code",
   "execution_count": 2,
   "metadata": {},
   "outputs": [],
   "source": [
    "import pandas as pd \n",
    "import matplotlib.pyplot as plt\n",
    "import seaborn as sns\n",
    "\n",
    "# Load the data\n",
    "df = pd.read_csv('/Users/tilakpatel/Personel/Cognifyz intern/code/Data/Dataset.csv', encoding='utf-8')\n",
    "df = df.dropna(subset=['Cuisines'])"
   ]
  },
  {
   "cell_type": "code",
   "execution_count": 14,
   "metadata": {},
   "outputs": [],
   "source": [
    "df_res_chains = df.copy()\n",
    "df_chains = df_res_chains.groupby('Restaurant Name')['Aggregate rating'].agg(['count', 'mean']).sort_values(by='count', ascending=False)"
   ]
  },
  {
   "cell_type": "code",
   "execution_count": 22,
   "metadata": {},
   "outputs": [
    {
     "data": {
      "text/html": [
       "<div>\n",
       "<style scoped>\n",
       "    .dataframe tbody tr th:only-of-type {\n",
       "        vertical-align: middle;\n",
       "    }\n",
       "\n",
       "    .dataframe tbody tr th {\n",
       "        vertical-align: top;\n",
       "    }\n",
       "\n",
       "    .dataframe thead th {\n",
       "        text-align: right;\n",
       "    }\n",
       "</style>\n",
       "<table border=\"1\" class=\"dataframe\">\n",
       "  <thead>\n",
       "    <tr style=\"text-align: right;\">\n",
       "      <th></th>\n",
       "      <th>count</th>\n",
       "      <th>mean</th>\n",
       "    </tr>\n",
       "    <tr>\n",
       "      <th>Restaurant Name</th>\n",
       "      <th></th>\n",
       "      <th></th>\n",
       "    </tr>\n",
       "  </thead>\n",
       "  <tbody>\n",
       "    <tr>\n",
       "      <th>Cafe Coffee Day</th>\n",
       "      <td>83</td>\n",
       "      <td>2.419277</td>\n",
       "    </tr>\n",
       "    <tr>\n",
       "      <th>Domino's Pizza</th>\n",
       "      <td>79</td>\n",
       "      <td>2.740506</td>\n",
       "    </tr>\n",
       "    <tr>\n",
       "      <th>Subway</th>\n",
       "      <td>63</td>\n",
       "      <td>2.907937</td>\n",
       "    </tr>\n",
       "    <tr>\n",
       "      <th>Green Chick Chop</th>\n",
       "      <td>51</td>\n",
       "      <td>2.672549</td>\n",
       "    </tr>\n",
       "    <tr>\n",
       "      <th>McDonald's</th>\n",
       "      <td>48</td>\n",
       "      <td>3.339583</td>\n",
       "    </tr>\n",
       "    <tr>\n",
       "      <th>...</th>\n",
       "      <td>...</td>\n",
       "      <td>...</td>\n",
       "    </tr>\n",
       "    <tr>\n",
       "      <th>Ghungroo Club &amp; Bar - By Gautam Gambhir</th>\n",
       "      <td>1</td>\n",
       "      <td>3.800000</td>\n",
       "    </tr>\n",
       "    <tr>\n",
       "      <th>Ghar Ki Handi</th>\n",
       "      <td>1</td>\n",
       "      <td>3.000000</td>\n",
       "    </tr>\n",
       "    <tr>\n",
       "      <th>Ghar Ka Swad</th>\n",
       "      <td>1</td>\n",
       "      <td>0.000000</td>\n",
       "    </tr>\n",
       "    <tr>\n",
       "      <th>Ghar Bistro Cafe</th>\n",
       "      <td>1</td>\n",
       "      <td>4.400000</td>\n",
       "    </tr>\n",
       "    <tr>\n",
       "      <th>�ukura��a Sofras۱</th>\n",
       "      <td>1</td>\n",
       "      <td>4.400000</td>\n",
       "    </tr>\n",
       "  </tbody>\n",
       "</table>\n",
       "<p>7437 rows × 2 columns</p>\n",
       "</div>"
      ],
      "text/plain": [
       "                                         count      mean\n",
       "Restaurant Name                                         \n",
       "Cafe Coffee Day                             83  2.419277\n",
       "Domino's Pizza                              79  2.740506\n",
       "Subway                                      63  2.907937\n",
       "Green Chick Chop                            51  2.672549\n",
       "McDonald's                                  48  3.339583\n",
       "...                                        ...       ...\n",
       "Ghungroo Club & Bar - By Gautam Gambhir      1  3.800000\n",
       "Ghar Ki Handi                                1  3.000000\n",
       "Ghar Ka Swad                                 1  0.000000\n",
       "Ghar Bistro Cafe                             1  4.400000\n",
       "�ukura��a Sofras۱                            1  4.400000\n",
       "\n",
       "[7437 rows x 2 columns]"
      ]
     },
     "execution_count": 22,
     "metadata": {},
     "output_type": "execute_result"
    }
   ],
   "source": [
    "df_chains"
   ]
  },
  {
   "cell_type": "markdown",
   "metadata": {},
   "source": [
    "**Branch Count (Popularity)**:\n",
    "\n",
    "- Cafe Coffee Day (83 branches) is the most widespread, followed by Domino's Pizza (79), and Subway (63).\n",
    "- McDonald's, with 48 branches, has fewer outlets but stands out in ratings.\n",
    "\n",
    "**Ratings (Mean)**:\n",
    "\n",
    "- McDonald's has the highest rating among large chains (3.34), indicating consistent quality.\n",
    "- Cafe Coffee Day has the most branches but a relatively low rating (2.42), suggesting room for improvement.\n",
    "- Domino's Pizza and Subway have average ratings (2.74 and 2.91, respectively).\n",
    "\n",
    "**Small Chains**:\n",
    "- Smaller chains like Ghar Bistro Cafe and 'ukura Sofras۱ have high ratings (4.4), likely due to localized excellence.\n",
    "\n",
    "**Insights**:\n",
    "- Large chains often trade quality for scalability, while smaller chains maintain higher satisfaction levels. Notable exceptions include McDonald's, which balances both well."
   ]
  },
  {
   "cell_type": "code",
   "execution_count": null,
   "metadata": {},
   "outputs": [],
   "source": []
  }
 ],
 "metadata": {
  "kernelspec": {
   "display_name": "data_analysis",
   "language": "python",
   "name": "python3"
  },
  "language_info": {
   "codemirror_mode": {
    "name": "ipython",
    "version": 3
   },
   "file_extension": ".py",
   "mimetype": "text/x-python",
   "name": "python",
   "nbconvert_exporter": "python",
   "pygments_lexer": "ipython3",
   "version": "3.11.11"
  }
 },
 "nbformat": 4,
 "nbformat_minor": 2
}
